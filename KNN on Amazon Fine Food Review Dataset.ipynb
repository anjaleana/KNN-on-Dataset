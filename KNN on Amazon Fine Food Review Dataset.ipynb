{
 "cells": [
  {
   "cell_type": "markdown",
   "metadata": {},
   "source": [
    "### Data Source : https://www.kaggle.com/snap/amazon-fine-food-reviews"
   ]
  },
  {
   "cell_type": "markdown",
   "metadata": {},
   "source": [
    "## Objective : "
   ]
  },
  {
   "cell_type": "markdown",
   "metadata": {},
   "source": [
    "Given a review, determine whether the review is positive or not\n"
   ]
  },
  {
   "cell_type": "markdown",
   "metadata": {},
   "source": [
    "#### How to determine"
   ]
  },
  {
   "cell_type": "markdown",
   "metadata": {},
   "source": [
    "we could use rating 4 or 5 as positive and 1 or 2 negative. A review of 3 is neutral and ignored"
   ]
  },
  {
   "cell_type": "markdown",
   "metadata": {},
   "source": [
    "#### Let's import the library"
   ]
  },
  {
   "cell_type": "code",
   "execution_count": 1,
   "metadata": {},
   "outputs": [],
   "source": [
    "%matplotlib inline\n",
    "import warnings\n",
    "warnings.filterwarnings(\"ignore\")\n",
    "import pandas as pd\n",
    "import numpy as np\n",
    "from sklearn.model_selection import train_test_split\n",
    "from sklearn.neighbors import KNeighborsClassifier\n",
    "import sqlite3\n",
    "import nltk\n",
    "\n",
    "import string\n",
    "import seaborn as sns\n",
    "import matplotlib.pyplot as plt\n",
    "from sklearn.feature_extraction.text import TfidfTransformer\n",
    "from sklearn.feature_extraction.text import CountVectorizer\n",
    "from sklearn.feature_extraction.text import TfidfVectorizer\n",
    "\n",
    "\n",
    "from sklearn.metrics import confusion_matrix\n",
    "from sklearn import metrics\n",
    "from sklearn.metrics import roc_curve,auc\n",
    "from nltk.stem.porter import PorterStemmer\n",
    "from nltk.stem.wordnet import WordNetLemmatizer\n",
    "from sklearn.metrics import roc_auc_score\n",
    "from gensim.models import Word2Vec\n",
    "from gensim.models import KeyedVectors\n",
    "from sklearn.metrics import f1_score\n",
    "from sklearn.metrics import accuracy_score\n"
   ]
  },
  {
   "cell_type": "markdown",
   "metadata": {},
   "source": [
    "#### Let's Read the data"
   ]
  },
  {
   "cell_type": "code",
   "execution_count": 2,
   "metadata": {},
   "outputs": [],
   "source": [
    "#use the SQLite Table to read data\n",
    "\n",
    "conn = sqlite3.connect('database.sqlite')\n",
    "\n",
    "filtered_data = pd.read_sql_query(\"\"\"select * from reviews where score !=3 Limit 5000\"\"\",conn)"
   ]
  },
  {
   "cell_type": "code",
   "execution_count": 3,
   "metadata": {},
   "outputs": [
    {
     "data": {
      "text/html": [
       "<div>\n",
       "<style scoped>\n",
       "    .dataframe tbody tr th:only-of-type {\n",
       "        vertical-align: middle;\n",
       "    }\n",
       "\n",
       "    .dataframe tbody tr th {\n",
       "        vertical-align: top;\n",
       "    }\n",
       "\n",
       "    .dataframe thead th {\n",
       "        text-align: right;\n",
       "    }\n",
       "</style>\n",
       "<table border=\"1\" class=\"dataframe\">\n",
       "  <thead>\n",
       "    <tr style=\"text-align: right;\">\n",
       "      <th></th>\n",
       "      <th>Id</th>\n",
       "      <th>ProductId</th>\n",
       "      <th>UserId</th>\n",
       "      <th>ProfileName</th>\n",
       "      <th>HelpfulnessNumerator</th>\n",
       "      <th>HelpfulnessDenominator</th>\n",
       "      <th>Score</th>\n",
       "      <th>Time</th>\n",
       "      <th>Summary</th>\n",
       "      <th>Text</th>\n",
       "    </tr>\n",
       "  </thead>\n",
       "  <tbody>\n",
       "    <tr>\n",
       "      <th>0</th>\n",
       "      <td>1</td>\n",
       "      <td>B001E4KFG0</td>\n",
       "      <td>A3SGXH7AUHU8GW</td>\n",
       "      <td>delmartian</td>\n",
       "      <td>1</td>\n",
       "      <td>1</td>\n",
       "      <td>5</td>\n",
       "      <td>1303862400</td>\n",
       "      <td>Good Quality Dog Food</td>\n",
       "      <td>I have bought several of the Vitality canned d...</td>\n",
       "    </tr>\n",
       "    <tr>\n",
       "      <th>1</th>\n",
       "      <td>2</td>\n",
       "      <td>B00813GRG4</td>\n",
       "      <td>A1D87F6ZCVE5NK</td>\n",
       "      <td>dll pa</td>\n",
       "      <td>0</td>\n",
       "      <td>0</td>\n",
       "      <td>1</td>\n",
       "      <td>1346976000</td>\n",
       "      <td>Not as Advertised</td>\n",
       "      <td>Product arrived labeled as Jumbo Salted Peanut...</td>\n",
       "    </tr>\n",
       "    <tr>\n",
       "      <th>2</th>\n",
       "      <td>3</td>\n",
       "      <td>B000LQOCH0</td>\n",
       "      <td>ABXLMWJIXXAIN</td>\n",
       "      <td>Natalia Corres \"Natalia Corres\"</td>\n",
       "      <td>1</td>\n",
       "      <td>1</td>\n",
       "      <td>4</td>\n",
       "      <td>1219017600</td>\n",
       "      <td>\"Delight\" says it all</td>\n",
       "      <td>This is a confection that has been around a fe...</td>\n",
       "    </tr>\n",
       "    <tr>\n",
       "      <th>3</th>\n",
       "      <td>4</td>\n",
       "      <td>B000UA0QIQ</td>\n",
       "      <td>A395BORC6FGVXV</td>\n",
       "      <td>Karl</td>\n",
       "      <td>3</td>\n",
       "      <td>3</td>\n",
       "      <td>2</td>\n",
       "      <td>1307923200</td>\n",
       "      <td>Cough Medicine</td>\n",
       "      <td>If you are looking for the secret ingredient i...</td>\n",
       "    </tr>\n",
       "    <tr>\n",
       "      <th>4</th>\n",
       "      <td>5</td>\n",
       "      <td>B006K2ZZ7K</td>\n",
       "      <td>A1UQRSCLF8GW1T</td>\n",
       "      <td>Michael D. Bigham \"M. Wassir\"</td>\n",
       "      <td>0</td>\n",
       "      <td>0</td>\n",
       "      <td>5</td>\n",
       "      <td>1350777600</td>\n",
       "      <td>Great taffy</td>\n",
       "      <td>Great taffy at a great price.  There was a wid...</td>\n",
       "    </tr>\n",
       "  </tbody>\n",
       "</table>\n",
       "</div>"
      ],
      "text/plain": [
       "   Id   ProductId          UserId                      ProfileName  \\\n",
       "0   1  B001E4KFG0  A3SGXH7AUHU8GW                       delmartian   \n",
       "1   2  B00813GRG4  A1D87F6ZCVE5NK                           dll pa   \n",
       "2   3  B000LQOCH0   ABXLMWJIXXAIN  Natalia Corres \"Natalia Corres\"   \n",
       "3   4  B000UA0QIQ  A395BORC6FGVXV                             Karl   \n",
       "4   5  B006K2ZZ7K  A1UQRSCLF8GW1T    Michael D. Bigham \"M. Wassir\"   \n",
       "\n",
       "   HelpfulnessNumerator  HelpfulnessDenominator  Score        Time  \\\n",
       "0                     1                       1      5  1303862400   \n",
       "1                     0                       0      1  1346976000   \n",
       "2                     1                       1      4  1219017600   \n",
       "3                     3                       3      2  1307923200   \n",
       "4                     0                       0      5  1350777600   \n",
       "\n",
       "                 Summary                                               Text  \n",
       "0  Good Quality Dog Food  I have bought several of the Vitality canned d...  \n",
       "1      Not as Advertised  Product arrived labeled as Jumbo Salted Peanut...  \n",
       "2  \"Delight\" says it all  This is a confection that has been around a fe...  \n",
       "3         Cough Medicine  If you are looking for the secret ingredient i...  \n",
       "4            Great taffy  Great taffy at a great price.  There was a wid...  "
      ]
     },
     "execution_count": 3,
     "metadata": {},
     "output_type": "execute_result"
    }
   ],
   "source": [
    "filtered_data.head()"
   ]
  },
  {
   "cell_type": "markdown",
   "metadata": {},
   "source": [
    "Attribute Information:\n",
    "\n",
    "1. Id\n",
    "2. ProductId - unique identifier for the product\n",
    "3. UserId - unqiue identifier for the user\n",
    "4. ProfileName\n",
    "5. HelpfulnessNumerator - number of users who found the review helpful\n",
    "6. HelpfulnessDenominator - number of users who indicated whether they found the review helpful or not\n",
    "7. Score - rating between 1 and 5\n",
    "8. Time - timestamp for the review\n",
    "9. Summary - brief summary of the review\n",
    "10. Text - text of the review"
   ]
  },
  {
   "cell_type": "markdown",
   "metadata": {},
   "source": [
    "#### We use score as rating "
   ]
  },
  {
   "cell_type": "code",
   "execution_count": 4,
   "metadata": {},
   "outputs": [
    {
     "name": "stdout",
     "output_type": "stream",
     "text": [
      "Number of data point in our data (5000, 10)\n"
     ]
    },
    {
     "data": {
      "text/html": [
       "<div>\n",
       "<style scoped>\n",
       "    .dataframe tbody tr th:only-of-type {\n",
       "        vertical-align: middle;\n",
       "    }\n",
       "\n",
       "    .dataframe tbody tr th {\n",
       "        vertical-align: top;\n",
       "    }\n",
       "\n",
       "    .dataframe thead th {\n",
       "        text-align: right;\n",
       "    }\n",
       "</style>\n",
       "<table border=\"1\" class=\"dataframe\">\n",
       "  <thead>\n",
       "    <tr style=\"text-align: right;\">\n",
       "      <th></th>\n",
       "      <th>Id</th>\n",
       "      <th>ProductId</th>\n",
       "      <th>UserId</th>\n",
       "      <th>ProfileName</th>\n",
       "      <th>HelpfulnessNumerator</th>\n",
       "      <th>HelpfulnessDenominator</th>\n",
       "      <th>Score</th>\n",
       "      <th>Time</th>\n",
       "      <th>Summary</th>\n",
       "      <th>Text</th>\n",
       "    </tr>\n",
       "  </thead>\n",
       "  <tbody>\n",
       "    <tr>\n",
       "      <th>0</th>\n",
       "      <td>1</td>\n",
       "      <td>B001E4KFG0</td>\n",
       "      <td>A3SGXH7AUHU8GW</td>\n",
       "      <td>delmartian</td>\n",
       "      <td>1</td>\n",
       "      <td>1</td>\n",
       "      <td>1</td>\n",
       "      <td>1303862400</td>\n",
       "      <td>Good Quality Dog Food</td>\n",
       "      <td>I have bought several of the Vitality canned d...</td>\n",
       "    </tr>\n",
       "    <tr>\n",
       "      <th>1</th>\n",
       "      <td>2</td>\n",
       "      <td>B00813GRG4</td>\n",
       "      <td>A1D87F6ZCVE5NK</td>\n",
       "      <td>dll pa</td>\n",
       "      <td>0</td>\n",
       "      <td>0</td>\n",
       "      <td>0</td>\n",
       "      <td>1346976000</td>\n",
       "      <td>Not as Advertised</td>\n",
       "      <td>Product arrived labeled as Jumbo Salted Peanut...</td>\n",
       "    </tr>\n",
       "    <tr>\n",
       "      <th>2</th>\n",
       "      <td>3</td>\n",
       "      <td>B000LQOCH0</td>\n",
       "      <td>ABXLMWJIXXAIN</td>\n",
       "      <td>Natalia Corres \"Natalia Corres\"</td>\n",
       "      <td>1</td>\n",
       "      <td>1</td>\n",
       "      <td>1</td>\n",
       "      <td>1219017600</td>\n",
       "      <td>\"Delight\" says it all</td>\n",
       "      <td>This is a confection that has been around a fe...</td>\n",
       "    </tr>\n",
       "    <tr>\n",
       "      <th>3</th>\n",
       "      <td>4</td>\n",
       "      <td>B000UA0QIQ</td>\n",
       "      <td>A395BORC6FGVXV</td>\n",
       "      <td>Karl</td>\n",
       "      <td>3</td>\n",
       "      <td>3</td>\n",
       "      <td>0</td>\n",
       "      <td>1307923200</td>\n",
       "      <td>Cough Medicine</td>\n",
       "      <td>If you are looking for the secret ingredient i...</td>\n",
       "    </tr>\n",
       "    <tr>\n",
       "      <th>4</th>\n",
       "      <td>5</td>\n",
       "      <td>B006K2ZZ7K</td>\n",
       "      <td>A1UQRSCLF8GW1T</td>\n",
       "      <td>Michael D. Bigham \"M. Wassir\"</td>\n",
       "      <td>0</td>\n",
       "      <td>0</td>\n",
       "      <td>1</td>\n",
       "      <td>1350777600</td>\n",
       "      <td>Great taffy</td>\n",
       "      <td>Great taffy at a great price.  There was a wid...</td>\n",
       "    </tr>\n",
       "  </tbody>\n",
       "</table>\n",
       "</div>"
      ],
      "text/plain": [
       "   Id   ProductId          UserId                      ProfileName  \\\n",
       "0   1  B001E4KFG0  A3SGXH7AUHU8GW                       delmartian   \n",
       "1   2  B00813GRG4  A1D87F6ZCVE5NK                           dll pa   \n",
       "2   3  B000LQOCH0   ABXLMWJIXXAIN  Natalia Corres \"Natalia Corres\"   \n",
       "3   4  B000UA0QIQ  A395BORC6FGVXV                             Karl   \n",
       "4   5  B006K2ZZ7K  A1UQRSCLF8GW1T    Michael D. Bigham \"M. Wassir\"   \n",
       "\n",
       "   HelpfulnessNumerator  HelpfulnessDenominator  Score        Time  \\\n",
       "0                     1                       1      1  1303862400   \n",
       "1                     0                       0      0  1346976000   \n",
       "2                     1                       1      1  1219017600   \n",
       "3                     3                       3      0  1307923200   \n",
       "4                     0                       0      1  1350777600   \n",
       "\n",
       "                 Summary                                               Text  \n",
       "0  Good Quality Dog Food  I have bought several of the Vitality canned d...  \n",
       "1      Not as Advertised  Product arrived labeled as Jumbo Salted Peanut...  \n",
       "2  \"Delight\" says it all  This is a confection that has been around a fe...  \n",
       "3         Cough Medicine  If you are looking for the secret ingredient i...  \n",
       "4            Great taffy  Great taffy at a great price.  There was a wid...  "
      ]
     },
     "execution_count": 4,
     "metadata": {},
     "output_type": "execute_result"
    }
   ],
   "source": [
    "def partition(x):\n",
    "    if x < 3:\n",
    "        return 0\n",
    "    return 1\n",
    "actual_score = filtered_data['Score']\n",
    "positiveNegative = actual_score.map(partition)\n",
    "filtered_data['Score'] = positiveNegative\n",
    "print(\"Number of data point in our data\",filtered_data.shape)\n",
    "filtered_data.head()"
   ]
  },
  {
   "cell_type": "code",
   "execution_count": 5,
   "metadata": {},
   "outputs": [
    {
     "data": {
      "text/plain": [
       "1    4187\n",
       "0     813\n",
       "Name: Score, dtype: int64"
      ]
     },
     "execution_count": 5,
     "metadata": {},
     "output_type": "execute_result"
    }
   ],
   "source": [
    "filtered_data['Score'].value_counts()"
   ]
  },
  {
   "cell_type": "code",
   "execution_count": 6,
   "metadata": {},
   "outputs": [
    {
     "data": {
      "text/plain": [
       "Index(['Id', 'ProductId', 'UserId', 'ProfileName', 'HelpfulnessNumerator',\n",
       "       'HelpfulnessDenominator', 'Score', 'Time', 'Summary', 'Text'],\n",
       "      dtype='object')"
      ]
     },
     "execution_count": 6,
     "metadata": {},
     "output_type": "execute_result"
    }
   ],
   "source": [
    "filtered_data.columns"
   ]
  },
  {
   "cell_type": "markdown",
   "metadata": {},
   "source": [
    "We have to find the userid who gave review more than one time. So we will use groupby clause"
   ]
  },
  {
   "cell_type": "code",
   "execution_count": null,
   "metadata": {},
   "outputs": [],
   "source": []
  },
  {
   "cell_type": "code",
   "execution_count": 7,
   "metadata": {},
   "outputs": [],
   "source": [
    "display = pd.read_sql_query(\"\"\"select \n",
    "UserId, ProductId, ProfileName,Score,Time,Text,Count(*)\n",
    "from Reviews Group by userId \n",
    "Having Count(*)>1\"\"\",conn)"
   ]
  },
  {
   "cell_type": "code",
   "execution_count": 8,
   "metadata": {},
   "outputs": [
    {
     "name": "stdout",
     "output_type": "stream",
     "text": [
      "(80668, 7)\n"
     ]
    },
    {
     "data": {
      "text/html": [
       "<div>\n",
       "<style scoped>\n",
       "    .dataframe tbody tr th:only-of-type {\n",
       "        vertical-align: middle;\n",
       "    }\n",
       "\n",
       "    .dataframe tbody tr th {\n",
       "        vertical-align: top;\n",
       "    }\n",
       "\n",
       "    .dataframe thead th {\n",
       "        text-align: right;\n",
       "    }\n",
       "</style>\n",
       "<table border=\"1\" class=\"dataframe\">\n",
       "  <thead>\n",
       "    <tr style=\"text-align: right;\">\n",
       "      <th></th>\n",
       "      <th>UserId</th>\n",
       "      <th>ProductId</th>\n",
       "      <th>ProfileName</th>\n",
       "      <th>Score</th>\n",
       "      <th>Time</th>\n",
       "      <th>Text</th>\n",
       "      <th>Count(*)</th>\n",
       "    </tr>\n",
       "  </thead>\n",
       "  <tbody>\n",
       "    <tr>\n",
       "      <th>0</th>\n",
       "      <td>#oc-R115TNMSPFT9I7</td>\n",
       "      <td>B007Y59HVM</td>\n",
       "      <td>Breyton</td>\n",
       "      <td>2</td>\n",
       "      <td>1331510400</td>\n",
       "      <td>Overall its just OK when considering the price...</td>\n",
       "      <td>2</td>\n",
       "    </tr>\n",
       "    <tr>\n",
       "      <th>1</th>\n",
       "      <td>#oc-R11D9D7SHXIJB9</td>\n",
       "      <td>B005HG9ET0</td>\n",
       "      <td>Louis E. Emory \"hoppy\"</td>\n",
       "      <td>5</td>\n",
       "      <td>1342396800</td>\n",
       "      <td>My wife has recurring extreme muscle spasms, u...</td>\n",
       "      <td>3</td>\n",
       "    </tr>\n",
       "    <tr>\n",
       "      <th>2</th>\n",
       "      <td>#oc-R11DNU2NBKQ23Z</td>\n",
       "      <td>B007Y59HVM</td>\n",
       "      <td>Kim Cieszykowski</td>\n",
       "      <td>1</td>\n",
       "      <td>1348531200</td>\n",
       "      <td>This coffee is horrible and unfortunately not ...</td>\n",
       "      <td>2</td>\n",
       "    </tr>\n",
       "    <tr>\n",
       "      <th>3</th>\n",
       "      <td>#oc-R11O5J5ZVQE25C</td>\n",
       "      <td>B005HG9ET0</td>\n",
       "      <td>Penguin Chick</td>\n",
       "      <td>5</td>\n",
       "      <td>1346889600</td>\n",
       "      <td>This will be the bottle that you grab from the...</td>\n",
       "      <td>3</td>\n",
       "    </tr>\n",
       "    <tr>\n",
       "      <th>4</th>\n",
       "      <td>#oc-R12KPBODL2B5ZD</td>\n",
       "      <td>B007OSBE1U</td>\n",
       "      <td>Christopher P. Presta</td>\n",
       "      <td>1</td>\n",
       "      <td>1348617600</td>\n",
       "      <td>I didnt like this coffee. Instead of telling y...</td>\n",
       "      <td>2</td>\n",
       "    </tr>\n",
       "  </tbody>\n",
       "</table>\n",
       "</div>"
      ],
      "text/plain": [
       "               UserId   ProductId             ProfileName  Score        Time  \\\n",
       "0  #oc-R115TNMSPFT9I7  B007Y59HVM                 Breyton      2  1331510400   \n",
       "1  #oc-R11D9D7SHXIJB9  B005HG9ET0  Louis E. Emory \"hoppy\"      5  1342396800   \n",
       "2  #oc-R11DNU2NBKQ23Z  B007Y59HVM        Kim Cieszykowski      1  1348531200   \n",
       "3  #oc-R11O5J5ZVQE25C  B005HG9ET0           Penguin Chick      5  1346889600   \n",
       "4  #oc-R12KPBODL2B5ZD  B007OSBE1U   Christopher P. Presta      1  1348617600   \n",
       "\n",
       "                                                Text  Count(*)  \n",
       "0  Overall its just OK when considering the price...         2  \n",
       "1  My wife has recurring extreme muscle spasms, u...         3  \n",
       "2  This coffee is horrible and unfortunately not ...         2  \n",
       "3  This will be the bottle that you grab from the...         3  \n",
       "4  I didnt like this coffee. Instead of telling y...         2  "
      ]
     },
     "execution_count": 8,
     "metadata": {},
     "output_type": "execute_result"
    }
   ],
   "source": [
    "print(display.shape)\n",
    "display.head()"
   ]
  },
  {
   "cell_type": "code",
   "execution_count": 9,
   "metadata": {},
   "outputs": [
    {
     "data": {
      "text/html": [
       "<div>\n",
       "<style scoped>\n",
       "    .dataframe tbody tr th:only-of-type {\n",
       "        vertical-align: middle;\n",
       "    }\n",
       "\n",
       "    .dataframe tbody tr th {\n",
       "        vertical-align: top;\n",
       "    }\n",
       "\n",
       "    .dataframe thead th {\n",
       "        text-align: right;\n",
       "    }\n",
       "</style>\n",
       "<table border=\"1\" class=\"dataframe\">\n",
       "  <thead>\n",
       "    <tr style=\"text-align: right;\">\n",
       "      <th></th>\n",
       "      <th>UserId</th>\n",
       "      <th>ProductId</th>\n",
       "      <th>ProfileName</th>\n",
       "      <th>Score</th>\n",
       "      <th>Time</th>\n",
       "      <th>Text</th>\n",
       "      <th>Count(*)</th>\n",
       "    </tr>\n",
       "  </thead>\n",
       "  <tbody>\n",
       "    <tr>\n",
       "      <th>80638</th>\n",
       "      <td>AZY10LLTJ71NX</td>\n",
       "      <td>B006P7E5ZI</td>\n",
       "      <td>undertheshrine \"undertheshrine\"</td>\n",
       "      <td>5</td>\n",
       "      <td>1334707200</td>\n",
       "      <td>I was recommended to try green tea extract to ...</td>\n",
       "      <td>5</td>\n",
       "    </tr>\n",
       "  </tbody>\n",
       "</table>\n",
       "</div>"
      ],
      "text/plain": [
       "              UserId   ProductId                      ProfileName  Score  \\\n",
       "80638  AZY10LLTJ71NX  B006P7E5ZI  undertheshrine \"undertheshrine\"      5   \n",
       "\n",
       "             Time                                               Text  Count(*)  \n",
       "80638  1334707200  I was recommended to try green tea extract to ...         5  "
      ]
     },
     "execution_count": 9,
     "metadata": {},
     "output_type": "execute_result"
    }
   ],
   "source": [
    "display[display['UserId']=='AZY10LLTJ71NX']"
   ]
  },
  {
   "cell_type": "code",
   "execution_count": 10,
   "metadata": {},
   "outputs": [
    {
     "data": {
      "text/plain": [
       "393063"
      ]
     },
     "execution_count": 10,
     "metadata": {},
     "output_type": "execute_result"
    }
   ],
   "source": [
    "display['Count(*)'].sum()"
   ]
  },
  {
   "cell_type": "markdown",
   "metadata": {},
   "source": [
    "### Exploratory Data Analysis"
   ]
  },
  {
   "cell_type": "code",
   "execution_count": 11,
   "metadata": {},
   "outputs": [
    {
     "name": "stdout",
     "output_type": "stream",
     "text": [
      "A3PJZ8TU8FDQ1K    5\n",
      "A31N6KB160O508    5\n",
      "AY12DBB0U420B     5\n",
      "A3OXHLG6DIBRW8    5\n",
      "A2NLZ3M0OJV9NX    4\n",
      "                 ..\n",
      "A3O1I3KB7L1R9S    1\n",
      "A3UCN2RGY7O6S1    1\n",
      "A3PXSG75NMXNUF    1\n",
      "AYMV2T86WIXVD     1\n",
      "A2VDUVKIEMEBMF    1\n",
      "Name: UserId, Length: 4824, dtype: int64\n"
     ]
    }
   ],
   "source": [
    "print(filtered_data['UserId'].value_counts())"
   ]
  },
  {
   "cell_type": "code",
   "execution_count": 12,
   "metadata": {},
   "outputs": [
    {
     "data": {
      "text/html": [
       "<div>\n",
       "<style scoped>\n",
       "    .dataframe tbody tr th:only-of-type {\n",
       "        vertical-align: middle;\n",
       "    }\n",
       "\n",
       "    .dataframe tbody tr th {\n",
       "        vertical-align: top;\n",
       "    }\n",
       "\n",
       "    .dataframe thead th {\n",
       "        text-align: right;\n",
       "    }\n",
       "</style>\n",
       "<table border=\"1\" class=\"dataframe\">\n",
       "  <thead>\n",
       "    <tr style=\"text-align: right;\">\n",
       "      <th></th>\n",
       "      <th>Id</th>\n",
       "      <th>ProductId</th>\n",
       "      <th>UserId</th>\n",
       "      <th>ProfileName</th>\n",
       "      <th>HelpfulnessNumerator</th>\n",
       "      <th>HelpfulnessDenominator</th>\n",
       "      <th>Score</th>\n",
       "      <th>Time</th>\n",
       "      <th>Summary</th>\n",
       "      <th>Text</th>\n",
       "    </tr>\n",
       "  </thead>\n",
       "  <tbody>\n",
       "    <tr>\n",
       "      <th>0</th>\n",
       "      <td>473869</td>\n",
       "      <td>B0005YW8C4</td>\n",
       "      <td>A31N6KB160O508</td>\n",
       "      <td>Fran W.</td>\n",
       "      <td>0</td>\n",
       "      <td>0</td>\n",
       "      <td>5</td>\n",
       "      <td>1323820800</td>\n",
       "      <td>Good taste and quaility</td>\n",
       "      <td>Delicious as usual for this cookie. Love them....</td>\n",
       "    </tr>\n",
       "    <tr>\n",
       "      <th>1</th>\n",
       "      <td>491579</td>\n",
       "      <td>B0005YW8K6</td>\n",
       "      <td>A31N6KB160O508</td>\n",
       "      <td>Fran W.</td>\n",
       "      <td>0</td>\n",
       "      <td>0</td>\n",
       "      <td>5</td>\n",
       "      <td>1323820800</td>\n",
       "      <td>Good taste and quaility</td>\n",
       "      <td>Delicious as usual for this cookie. Love them....</td>\n",
       "    </tr>\n",
       "    <tr>\n",
       "      <th>2</th>\n",
       "      <td>253563</td>\n",
       "      <td>B0005Z6ZK4</td>\n",
       "      <td>A31N6KB160O508</td>\n",
       "      <td>Fran W.</td>\n",
       "      <td>1</td>\n",
       "      <td>12</td>\n",
       "      <td>1</td>\n",
       "      <td>1309478400</td>\n",
       "      <td>Seal on item not intact</td>\n",
       "      <td>Had to get a refund from Amazon. Received the ...</td>\n",
       "    </tr>\n",
       "    <tr>\n",
       "      <th>3</th>\n",
       "      <td>508458</td>\n",
       "      <td>B00099XN7O</td>\n",
       "      <td>A31N6KB160O508</td>\n",
       "      <td>Fran W.</td>\n",
       "      <td>0</td>\n",
       "      <td>0</td>\n",
       "      <td>5</td>\n",
       "      <td>1216339200</td>\n",
       "      <td>Delicious,creamy,substantial meal helper</td>\n",
       "      <td>I hiave made this both separately and with chi...</td>\n",
       "    </tr>\n",
       "    <tr>\n",
       "      <th>4</th>\n",
       "      <td>13721</td>\n",
       "      <td>B000AY9U20</td>\n",
       "      <td>A31N6KB160O508</td>\n",
       "      <td>Fran W.</td>\n",
       "      <td>2</td>\n",
       "      <td>2</td>\n",
       "      <td>5</td>\n",
       "      <td>1204502400</td>\n",
       "      <td>Excellent taste and shipping</td>\n",
       "      <td>I received these recently without any problem ...</td>\n",
       "    </tr>\n",
       "  </tbody>\n",
       "</table>\n",
       "</div>"
      ],
      "text/plain": [
       "       Id   ProductId          UserId ProfileName  HelpfulnessNumerator  \\\n",
       "0  473869  B0005YW8C4  A31N6KB160O508     Fran W.                     0   \n",
       "1  491579  B0005YW8K6  A31N6KB160O508     Fran W.                     0   \n",
       "2  253563  B0005Z6ZK4  A31N6KB160O508     Fran W.                     1   \n",
       "3  508458  B00099XN7O  A31N6KB160O508     Fran W.                     0   \n",
       "4   13721  B000AY9U20  A31N6KB160O508     Fran W.                     2   \n",
       "\n",
       "   HelpfulnessDenominator  Score        Time  \\\n",
       "0                       0      5  1323820800   \n",
       "1                       0      5  1323820800   \n",
       "2                      12      1  1309478400   \n",
       "3                       0      5  1216339200   \n",
       "4                       2      5  1204502400   \n",
       "\n",
       "                                    Summary  \\\n",
       "0                   Good taste and quaility   \n",
       "1                   Good taste and quaility   \n",
       "2                   Seal on item not intact   \n",
       "3  Delicious,creamy,substantial meal helper   \n",
       "4              Excellent taste and shipping   \n",
       "\n",
       "                                                Text  \n",
       "0  Delicious as usual for this cookie. Love them....  \n",
       "1  Delicious as usual for this cookie. Love them....  \n",
       "2  Had to get a refund from Amazon. Received the ...  \n",
       "3  I hiave made this both separately and with chi...  \n",
       "4  I received these recently without any problem ...  "
      ]
     },
     "execution_count": 12,
     "metadata": {},
     "output_type": "execute_result"
    }
   ],
   "source": [
    "display_data = pd.read_sql_query(\"\"\"select\n",
    "* from Reviews where Score !=3 and\n",
    "UserId = \"A31N6KB160O508\"\n",
    "ORDER BY ProductId\"\"\",conn)\n",
    "display_data.head()"
   ]
  },
  {
   "cell_type": "markdown",
   "metadata": {},
   "source": [
    "Observation : We found there are many duplicate entries with same UserId, ProfileName,Text"
   ]
  },
  {
   "cell_type": "markdown",
   "metadata": {},
   "source": [
    "### Sorted the dataset order by ProductId"
   ]
  },
  {
   "cell_type": "code",
   "execution_count": 13,
   "metadata": {},
   "outputs": [],
   "source": [
    "sorted_data = filtered_data.sort_values(\"ProductId\",axis=0,ascending = True,inplace =False,kind = \"quicksort\",na_position = 'last')\n"
   ]
  },
  {
   "cell_type": "code",
   "execution_count": 14,
   "metadata": {},
   "outputs": [
    {
     "data": {
      "text/plain": [
       "(4993, 10)"
      ]
     },
     "execution_count": 14,
     "metadata": {},
     "output_type": "execute_result"
    }
   ],
   "source": [
    "#deduplication of entries\n",
    "final = sorted_data.drop_duplicates(subset = {\"UserId\",\"ProductId\",\"ProfileName\",\"Text\"},keep = 'first',inplace=False)\n",
    "final.shape"
   ]
  },
  {
   "cell_type": "code",
   "execution_count": 15,
   "metadata": {},
   "outputs": [
    {
     "data": {
      "text/plain": [
       "99.86"
      ]
     },
     "execution_count": 15,
     "metadata": {},
     "output_type": "execute_result"
    }
   ],
   "source": [
    "#checking to see how much % of data still remains\n",
    "\n",
    "(final['Id'].size*1.0)/(filtered_data['Id'].size*1.0)*100"
   ]
  },
  {
   "cell_type": "markdown",
   "metadata": {},
   "source": [
    "Observation : We found there are two id for that helpfulnessNumerator is greater than helpfulnessDenominator which is not practically  possible.Hence we remove these two rows for calculations"
   ]
  },
  {
   "cell_type": "code",
   "execution_count": 16,
   "metadata": {},
   "outputs": [
    {
     "data": {
      "text/html": [
       "<div>\n",
       "<style scoped>\n",
       "    .dataframe tbody tr th:only-of-type {\n",
       "        vertical-align: middle;\n",
       "    }\n",
       "\n",
       "    .dataframe tbody tr th {\n",
       "        vertical-align: top;\n",
       "    }\n",
       "\n",
       "    .dataframe thead th {\n",
       "        text-align: right;\n",
       "    }\n",
       "</style>\n",
       "<table border=\"1\" class=\"dataframe\">\n",
       "  <thead>\n",
       "    <tr style=\"text-align: right;\">\n",
       "      <th></th>\n",
       "      <th>Id</th>\n",
       "      <th>ProductId</th>\n",
       "      <th>UserId</th>\n",
       "      <th>ProfileName</th>\n",
       "      <th>HelpfulnessNumerator</th>\n",
       "      <th>HelpfulnessDenominator</th>\n",
       "      <th>Score</th>\n",
       "      <th>Time</th>\n",
       "      <th>Summary</th>\n",
       "      <th>Text</th>\n",
       "    </tr>\n",
       "  </thead>\n",
       "  <tbody>\n",
       "    <tr>\n",
       "      <th>0</th>\n",
       "      <td>64422</td>\n",
       "      <td>B000MIDROQ</td>\n",
       "      <td>A161DK06JJMCYF</td>\n",
       "      <td>J. E. Stephens \"Jeanne\"</td>\n",
       "      <td>3</td>\n",
       "      <td>1</td>\n",
       "      <td>5</td>\n",
       "      <td>1224892800</td>\n",
       "      <td>Bought This for My Son at College</td>\n",
       "      <td>My son loves spaghetti so I didn't hesitate or...</td>\n",
       "    </tr>\n",
       "    <tr>\n",
       "      <th>1</th>\n",
       "      <td>44737</td>\n",
       "      <td>B001EQ55RW</td>\n",
       "      <td>A2V0I904FH7ABY</td>\n",
       "      <td>Ram</td>\n",
       "      <td>3</td>\n",
       "      <td>2</td>\n",
       "      <td>4</td>\n",
       "      <td>1212883200</td>\n",
       "      <td>Pure cocoa taste with crunchy almonds inside</td>\n",
       "      <td>It was almost a 'love at first bite' - the per...</td>\n",
       "    </tr>\n",
       "  </tbody>\n",
       "</table>\n",
       "</div>"
      ],
      "text/plain": [
       "      Id   ProductId          UserId              ProfileName  \\\n",
       "0  64422  B000MIDROQ  A161DK06JJMCYF  J. E. Stephens \"Jeanne\"   \n",
       "1  44737  B001EQ55RW  A2V0I904FH7ABY                      Ram   \n",
       "\n",
       "   HelpfulnessNumerator  HelpfulnessDenominator  Score        Time  \\\n",
       "0                     3                       1      5  1224892800   \n",
       "1                     3                       2      4  1212883200   \n",
       "\n",
       "                                        Summary  \\\n",
       "0             Bought This for My Son at College   \n",
       "1  Pure cocoa taste with crunchy almonds inside   \n",
       "\n",
       "                                                Text  \n",
       "0  My son loves spaghetti so I didn't hesitate or...  \n",
       "1  It was almost a 'love at first bite' - the per...  "
      ]
     },
     "execution_count": 16,
     "metadata": {},
     "output_type": "execute_result"
    }
   ],
   "source": [
    "display= pd.read_sql_query(\"\"\"\n",
    "SELECT *\n",
    "FROM Reviews\n",
    "WHERE Score != 3 AND Id=44737 OR Id=64422\n",
    "ORDER BY ProductID\n",
    "\"\"\", conn)\n",
    "\n",
    "display.head()"
   ]
  },
  {
   "cell_type": "code",
   "execution_count": 17,
   "metadata": {},
   "outputs": [],
   "source": [
    "final=final[final.HelpfulnessNumerator<=final.HelpfulnessDenominator]"
   ]
  },
  {
   "cell_type": "markdown",
   "metadata": {},
   "source": [
    "### Let's take final data"
   ]
  },
  {
   "cell_type": "code",
   "execution_count": 18,
   "metadata": {},
   "outputs": [
    {
     "data": {
      "text/plain": [
       "(4993, 10)"
      ]
     },
     "execution_count": 18,
     "metadata": {},
     "output_type": "execute_result"
    }
   ],
   "source": [
    "final.shape"
   ]
  },
  {
   "cell_type": "code",
   "execution_count": 19,
   "metadata": {},
   "outputs": [
    {
     "data": {
      "text/plain": [
       "1    4183\n",
       "0     810\n",
       "Name: Score, dtype: int64"
      ]
     },
     "execution_count": 19,
     "metadata": {},
     "output_type": "execute_result"
    }
   ],
   "source": [
    "final['Score'].value_counts()"
   ]
  },
  {
   "cell_type": "markdown",
   "metadata": {},
   "source": [
    "Observation : Total count for Positive Review : 4183 and Negative Review : 810 "
   ]
  },
  {
   "cell_type": "code",
   "execution_count": 20,
   "metadata": {},
   "outputs": [
    {
     "data": {
      "text/plain": [
       "<matplotlib.axes._subplots.AxesSubplot at 0x2532bb8d668>"
      ]
     },
     "execution_count": 20,
     "metadata": {},
     "output_type": "execute_result"
    },
    {
     "data": {
      "image/png": "[encoded data removed]",
      "text/plain": [
       "<Figure size 432x288 with 1 Axes>"
      ]
     },
     "metadata": {
      "needs_background": "light"
     },
     "output_type": "display_data"
    }
   ],
   "source": [
    "sns.countplot(x = 'Score',data = final)"
   ]
  },
  {
   "cell_type": "markdown",
   "metadata": {},
   "source": [
    "#### Text  Preprocessing"
   ]
  },
  {
   "cell_type": "code",
   "execution_count": 21,
   "metadata": {},
   "outputs": [
    {
     "name": "stdout",
     "output_type": "stream",
     "text": [
      "Why is this $[...] when the same product is available for $[...] here?<br />http://www.amazon.com/VICTOR-FLY-MAGNET-BAIT-REFILL/dp/B00004RBDY<br /><br />The Victor M380 and M502 traps are unreal, of course -- total fly genocide. Pretty stinky, but only right nearby.\n",
      "==================================================\n",
      "These chips are quite tasty and the price is right.  Packaged very well, would buy again.\n",
      "==================================================\n",
      "After eating TANG's chocolate and double-chocolate cookies, all other cookies will taste like expired, tepid dogfood to you. Her cookies will enhance your life in ways you never dreamed possible. Tim Horton's, Timothy's, Second Cup, Starbucks, Treats and those horrid packaged cookies at Zupas are just pathetic imitators to the grandeur that is a TANG cookie. HER COOKIES ARE DA BOMB!!! A+++++++ Hawt damn!\n",
      "==================================================\n",
      "My daughter, living and working in DC this summer, introduced me to this product while home for a visit.  She encouraged me to give the plain version (just pure coconut water) a chance first, and by the second container, I understood the amazing qualities of this drink.  I felt so refreshed, hydrated, and healthy!  I later tried the kind with pineapple, which is also delicious, but I think the plain is more effective and purely refreshing when really hot, tired and thirsty, while the sweeter fruit infused version will be amazing as part of a cocktail.  Can't wait for 5:00!\n",
      "==================================================\n"
     ]
    }
   ],
   "source": [
    "#printing some random reviews\n",
    "sent_0 = final['Text'].values[0]\n",
    "print(sent_0)\n",
    "print(\"=\"*50)\n",
    "\n",
    "sent_1000 = final['Text'].values[1000]\n",
    "print(sent_1000)\n",
    "print(\"=\"*50)\n",
    "\n",
    "sent_1500 = final['Text'].values[1500]\n",
    "print(sent_1500)\n",
    "print(\"=\"*50)\n",
    "\n",
    "sent_4900 = final['Text'].values[4900]\n",
    "print(sent_4900)\n",
    "print(\"=\"*50)"
   ]
  },
  {
   "cell_type": "code",
   "execution_count": 22,
   "metadata": {},
   "outputs": [
    {
     "name": "stdout",
     "output_type": "stream",
     "text": [
      "Why is this $[...] when the same product is available for $[...] here?<br /> /><br />The Victor M380 and M502 traps are unreal, of course -- total fly genocide. Pretty stinky, but only right nearby.\n",
      "These chips are quite tasty and the price is right.  Packaged very well, would buy again.\n",
      "After eating TANG's chocolate and double-chocolate cookies, all other cookies will taste like expired, tepid dogfood to you. Her cookies will enhance your life in ways you never dreamed possible. Tim Horton's, Timothy's, Second Cup, Starbucks, Treats and those horrid packaged cookies at Zupas are just pathetic imitators to the grandeur that is a TANG cookie. HER COOKIES ARE DA BOMB!!! A+++++++ Hawt damn!\n",
      "My daughter, living and working in DC this summer, introduced me to this product while home for a visit.  She encouraged me to give the plain version (just pure coconut water) a chance first, and by the second container, I understood the amazing qualities of this drink.  I felt so refreshed, hydrated, and healthy!  I later tried the kind with pineapple, which is also delicious, but I think the plain is more effective and purely refreshing when really hot, tired and thirsty, while the sweeter fruit infused version will be amazing as part of a cocktail.  Can't wait for 5:00!\n"
     ]
    }
   ],
   "source": [
    "#remove the URL from  text python\n",
    "import re\n",
    "sent_0 = re.sub(r\"http\\S+\",\"\",sent_0)\n",
    "sent_1000 = re.sub(r\"http\\S+\",\"\",sent_1000)\n",
    "sent_1500 = re.sub(r\"http\\S+\",\"\",sent_1500)\n",
    "sent_4900 = re.sub(r\"http\\S+\",\"\",sent_4900)\n",
    "print(sent_0)\n",
    "print(sent_1000)\n",
    "print(sent_1500)\n",
    "print(sent_4900)"
   ]
  },
  {
   "cell_type": "code",
   "execution_count": 23,
   "metadata": {},
   "outputs": [
    {
     "name": "stdout",
     "output_type": "stream",
     "text": [
      "Why is this $[...] when the same product is available for $[...] here? />The Victor M380 and M502 traps are unreal, of course -- total fly genocide. Pretty stinky, but only right nearby.\n",
      "====================================================================================================\n",
      "These chips are quite tasty and the price is right.  Packaged very well, would buy again.\n",
      "==================================================\n",
      "After eating TANG's chocolate and double-chocolate cookies, all other cookies will taste like expired, tepid dogfood to you. Her cookies will enhance your life in ways you never dreamed possible. Tim Horton's, Timothy's, Second Cup, Starbucks, Treats and those horrid packaged cookies at Zupas are just pathetic imitators to the grandeur that is a TANG cookie. HER COOKIES ARE DA BOMB!!! A+++++++ Hawt damn!\n",
      "==================================================\n",
      "My daughter, living and working in DC this summer, introduced me to this product while home for a visit.  She encouraged me to give the plain version (just pure coconut water) a chance first, and by the second container, I understood the amazing qualities of this drink.  I felt so refreshed, hydrated, and healthy!  I later tried the kind with pineapple, which is also delicious, but I think the plain is more effective and purely refreshing when really hot, tired and thirsty, while the sweeter fruit infused version will be amazing as part of a cocktail.  Can't wait for 5:00!\n",
      "==================================================\n"
     ]
    }
   ],
   "source": [
    "from bs4 import BeautifulSoup\n",
    "\n",
    "soup = BeautifulSoup(sent_0,\"lxml\")\n",
    "text = soup.get_text()\n",
    "print(text)\n",
    "print(\"=\"*100)\n",
    "\n",
    "soup = BeautifulSoup(sent_1000,\"lxml\")\n",
    "text = soup.get_text()\n",
    "print(text)\n",
    "print(\"=\"*50)\n",
    "\n",
    "soup= BeautifulSoup(sent_1500,\"lxml\")\n",
    "text = soup.get_text()\n",
    "print(text)\n",
    "print(\"=\"*50)\n",
    "\n",
    "soup = BeautifulSoup(sent_4900,\"lxml\")\n",
    "text = soup.get_text()\n",
    "print(text)\n",
    "print(\"=\"*50)"
   ]
  },
  {
   "cell_type": "code",
   "execution_count": 24,
   "metadata": {},
   "outputs": [],
   "source": [
    "import re\n",
    "\n",
    "def decontracted(phrase):\n",
    "    phrase = re.sub(r\"won't\",\"will not\",phrase)\n",
    "    phrase = re.sub(r\"can't\",\"can not\",phrase)\n",
    "    phrase=  re.sub(r\"\\'s\",\"is\",phrase)\n",
    "    phrase = re.sub(r\"\\'re\",\"are\",phrase)\n",
    "    phrase= re.sub(r\"\\'not\",\"not\",phrase)\n",
    "    phrase = re.sub(r\"\\'d\",\"would\",phrase)\n",
    "    phrase = re.sub(r\"\\'ll\",\"will\",phrase)\n",
    "    phrase = re.sub(r\"\\'ve\",\"have\",phrase)\n",
    "    phrase = re.sub(r\"\\'m\",\"am\",phrase)\n",
    "    return phrase"
   ]
  },
  {
   "cell_type": "code",
   "execution_count": 25,
   "metadata": {},
   "outputs": [
    {
     "name": "stdout",
     "output_type": "stream",
     "text": [
      "Why is this $[...] when the same product is available for $[...] here?<br /> /><br />The Victor M380 and M502 traps are unreal, of course -- total fly genocide. Pretty stinky, but only right nearby.\n",
      "==================================================\n",
      "These chips are quite tasty and the price is right.  Packaged very well, would buy again.\n",
      "==================================================\n",
      "After eating TANGis chocolate and double-chocolate cookies, all other cookies will taste like expired, tepid dogfood to you. Her cookies will enhance your life in ways you never dreamed possible. Tim Hortonis, Timothyis, Second Cup, Starbucks, Treats and those horrid packaged cookies at Zupas are just pathetic imitators to the grandeur that is a TANG cookie. HER COOKIES ARE DA BOMB!!! A+++++++ Hawt damn!\n",
      "==================================================\n",
      "My daughter, living and working in DC this summer, introduced me to this product while home for a visit.  She encouraged me to give the plain version (just pure coconut water) a chance first, and by the second container, I understood the amazing qualities of this drink.  I felt so refreshed, hydrated, and healthy!  I later tried the kind with pineapple, which is also delicious, but I think the plain is more effective and purely refreshing when really hot, tired and thirsty, while the sweeter fruit infused version will be amazing as part of a cocktail.  Can't wait for 5:00!\n",
      "==================================================\n"
     ]
    }
   ],
   "source": [
    "sent_0 = decontracted(sent_0)\n",
    "print(sent_0)\n",
    "print(\"=\"*50)\n",
    "\n",
    "sent_1000 = decontracted(sent_1000)\n",
    "print(sent_1000)\n",
    "print(\"=\"*50)\n",
    "\n",
    "sent_1500 = decontracted(sent_1500)\n",
    "print(sent_1500)\n",
    "print(\"=\"*50)\n",
    "\n",
    "sent_4900 = decontracted(sent_4900)\n",
    "print(sent_4900)\n",
    "print(\"=\"*50)"
   ]
  },
  {
   "cell_type": "code",
   "execution_count": 26,
   "metadata": {},
   "outputs": [
    {
     "name": "stdout",
     "output_type": "stream",
     "text": [
      "Why is this $[...] when the same product is available for $[...] here?<br /> /><br />The Victor  and  traps are unreal, of course -- total fly genocide. Pretty stinky, but only right nearby.\n",
      "These chips are quite tasty and the price is right.  Packaged very well, would buy again.\n",
      "After eating TANGis chocolate and double-chocolate cookies, all other cookies will taste like expired, tepid dogfood to you. Her cookies will enhance your life in ways you never dreamed possible. Tim Hortonis, Timothyis, Second Cup, Starbucks, Treats and those horrid packaged cookies at Zupas are just pathetic imitators to the grandeur that is a TANG cookie. HER COOKIES ARE DA BOMB!!! A+++++++ Hawt damn!\n",
      "My daughter, living and working in DC this summer, introduced me to this product while home for a visit.  She encouraged me to give the plain version (just pure coconut water) a chance first, and by the second container, I understood the amazing qualities of this drink.  I felt so refreshed, hydrated, and healthy!  I later tried the kind with pineapple, which is also delicious, but I think the plain is more effective and purely refreshing when really hot, tired and thirsty, while the sweeter fruit infused version will be amazing as part of a cocktail.  Can't wait for\n"
     ]
    }
   ],
   "source": [
    "#remove words with numbers python\n",
    "sent_0 = re.sub(\"\\S*\\d\\S*\",\"\",sent_0).strip()\n",
    "print(sent_0)\n",
    "\n",
    "sent_1000 = re.sub(\"\\S*\\d\\S*\",\"\",sent_1000).strip()\n",
    "print(sent_1000)\n",
    "\n",
    "sent_1500 = re.sub(\"\\S*\\d\\S*\",\"\",sent_1500).strip()\n",
    "print(sent_1500)\n",
    "\n",
    "sent_4900 = re.sub(\"\\S*\\d\\S*\",\"\",sent_4900).strip()\n",
    "print(sent_4900)"
   ]
  },
  {
   "cell_type": "code",
   "execution_count": 27,
   "metadata": {},
   "outputs": [
    {
     "name": "stdout",
     "output_type": "stream",
     "text": [
      "Why is this when the same product is available for here br br The Victor and traps are unreal of course total fly genocide Pretty stinky but only right nearby \n",
      "These chips are quite tasty and the price is right Packaged very well would buy again \n",
      "After eating TANGis chocolate and double chocolate cookies all other cookies will taste like expired tepid dogfood to you Her cookies will enhance your life in ways you never dreamed possible Tim Hortonis Timothyis Second Cup Starbucks Treats and those horrid packaged cookies at Zupas are just pathetic imitators to the grandeur that is a TANG cookie HER COOKIES ARE DA BOMB A Hawt damn \n",
      "My daughter living and working in DC this summer introduced me to this product while home for a visit She encouraged me to give the plain version just pure coconut water a chance first and by the second container I understood the amazing qualities of this drink I felt so refreshed hydrated and healthy I later tried the kind with pineapple which is also delicious but I think the plain is more effective and purely refreshing when really hot tired and thirsty while the sweeter fruit infused version will be amazing as part of a cocktail Can t wait for\n"
     ]
    }
   ],
   "source": [
    "#remove special character\n",
    "sent_0 = re.sub('[^A-Za-z0-9]+',' ',sent_0)\n",
    "print(sent_0)\n",
    "\n",
    "sent_1000 = re.sub('[^A-Za-z0-9]+',' ',sent_1000)\n",
    "print(sent_1000)\n",
    "\n",
    "sent_1500 = re.sub('[^A-Za-z0-9]+',' ',sent_1500)\n",
    "print(sent_1500)\n",
    "\n",
    "sent_4900 = re.sub('[^A-Za-z0-9]+',' ',sent_4900)\n",
    "print(sent_4900)"
   ]
  },
  {
   "cell_type": "code",
   "execution_count": 28,
   "metadata": {},
   "outputs": [],
   "source": [
    "stopwords= set(['br', 'the', 'i', 'me', 'my', 'myself', 'we', 'our', 'ours', 'ourselves', 'you', \"you're\", \"you've\",\\\n",
    "            \"you'll\", \"you'd\", 'your', 'yours', 'yourself', 'yourselves', 'he', 'him', 'his', 'himself', \\\n",
    "            'she', \"she's\", 'her', 'hers', 'herself', 'it', \"it's\", 'its', 'itself', 'they', 'them', 'their',\\\n",
    "            'theirs', 'themselves', 'what', 'which', 'who', 'whom', 'this', 'that', \"that'll\", 'these', 'those', \\\n",
    "            'am', 'is', 'are', 'was', 'were', 'be', 'been', 'being', 'have', 'has', 'had', 'having', 'do', 'does', \\\n",
    "            'did', 'doing', 'a', 'an', 'the', 'and', 'but', 'if', 'or', 'because', 'as', 'until', 'while', 'of', \\\n",
    "            'at', 'by', 'for', 'with', 'about', 'against', 'between', 'into', 'through', 'during', 'before', 'after',\\\n",
    "            'above', 'below', 'to', 'from', 'up', 'down', 'in', 'out', 'on', 'off', 'over', 'under', 'again', 'further',\\\n",
    "            'then', 'once', 'here', 'there', 'when', 'where', 'why', 'how', 'all', 'any', 'both', 'each', 'few', 'more',\\\n",
    "            'most', 'other', 'some', 'such', 'only', 'own', 'same', 'so', 'than', 'too', 'very', \\\n",
    "            's', 't', 'can', 'will', 'just', 'don', \"don't\", 'should', \"should've\", 'now', 'd', 'll', 'm', 'o', 're', \\\n",
    "            've', 'y', 'ain', 'aren', \"aren't\", 'couldn', \"couldn't\", 'didn', \"didn't\", 'doesn', \"doesn't\", 'hadn',\\\n",
    "            \"hadn't\", 'hasn', \"hasn't\", 'haven', \"haven't\", 'isn', \"isn't\", 'ma', 'mightn', \"mightn't\", 'mustn',\\\n",
    "            \"mustn't\", 'needn', \"needn't\", 'shan', \"shan't\", 'shouldn', \"shouldn't\", 'wasn', \"wasn't\", 'weren', \"weren't\", \\\n",
    "            'won', \"won't\", 'wouldn', \"wouldn't\"])"
   ]
  },
  {
   "cell_type": "markdown",
   "metadata": {},
   "source": [
    "#### Combining all the above Stundents"
   ]
  },
  {
   "cell_type": "code",
   "execution_count": 29,
   "metadata": {},
   "outputs": [
    {
     "name": "stderr",
     "output_type": "stream",
     "text": [
      "100%|████████████████████████████████████████████████████████████████████████████| 4993/4993 [00:03<00:00, 1249.71it/s]\n"
     ]
    }
   ],
   "source": [
    "from tqdm import tqdm\n",
    "preprocessed_review = []\n",
    "#tqdm is for printing the status bar\n",
    "for sentence in tqdm(final['Text'].values):\n",
    "    sentence = re.sub(r\"http\\S+\",\"\",sentence)\n",
    "    sentence = BeautifulSoup(sentence,\"lxml\").get_text()\n",
    "    sentence = decontracted(sentence)\n",
    "    sentence = re.sub(\"\\S*\\d\\S*\",\"\",sentence).strip()\n",
    "    sentence = re.sub('[^A-Za-z0-9]+',' ',sentence)\n",
    "    sentence = ' '.join(e.lower() for e in sentence.split() if e.lower() not in stopwords)\n",
    "    preprocessed_review.append(sentence.strip())"
   ]
  },
  {
   "cell_type": "code",
   "execution_count": 30,
   "metadata": {},
   "outputs": [
    {
     "data": {
      "text/plain": [
       "'eating tangis chocolate double chocolate cookies cookies taste like expired tepid dogfood cookies enhance life ways never dreamed possible tim hortonis timothyis second cup starbucks treats horrid packaged cookies zupas pathetic imitators grandeur tang cookie cookies da bomb hawt damn'"
      ]
     },
     "execution_count": 30,
     "metadata": {},
     "output_type": "execute_result"
    }
   ],
   "source": [
    "preprocessed_review[1500]"
   ]
  },
  {
   "cell_type": "markdown",
   "metadata": {},
   "source": [
    "### Summary Text Preprocessing"
   ]
  },
  {
   "cell_type": "code",
   "execution_count": 31,
   "metadata": {},
   "outputs": [],
   "source": [
    "#we will do later"
   ]
  },
  {
   "cell_type": "markdown",
   "metadata": {},
   "source": [
    "## Featurization"
   ]
  },
  {
   "cell_type": "markdown",
   "metadata": {},
   "source": [
    "## Bag Of Words"
   ]
  },
  {
   "cell_type": "code",
   "execution_count": 32,
   "metadata": {},
   "outputs": [
    {
     "name": "stdout",
     "output_type": "stream",
     "text": [
      "Some feature names: ['aa', 'aahhhs', 'aback', 'abandon', 'abates', 'abbott', 'abby', 'abdominal', 'abiding', 'ability']\n",
      "==================================================\n",
      "the type of count vectorizer <class 'pandas.core.frame.DataFrame'>\n",
      "The shape of count vectorizer: (4993, 13257)\n"
     ]
    }
   ],
   "source": [
    "count_vect = CountVectorizer()\n",
    "count_vect.fit(preprocessed_review)\n",
    "print(\"Some feature names:\",count_vect.get_feature_names()[:10])\n",
    "print(\"=\"*50)\n",
    "\n",
    "final_counts = count_vect.transform(preprocessed_review)\n",
    "print(\"the type of count vectorizer\",type(final))\n",
    "print(\"The shape of count vectorizer:\",final_counts.get_shape())\n"
   ]
  },
  {
   "cell_type": "markdown",
   "metadata": {},
   "source": [
    "### Bi-gram and n-Grams"
   ]
  },
  {
   "cell_type": "code",
   "execution_count": 33,
   "metadata": {},
   "outputs": [
    {
     "name": "stdout",
     "output_type": "stream",
     "text": [
      "The type of Bi-gram vectorizer <class 'scipy.sparse.csr.csr_matrix'>\n",
      "The shape of Bi-gram vectorizer (4993, 3127)\n"
     ]
    }
   ],
   "source": [
    "count_vect_bigram = CountVectorizer(ngram_range=(1,2),min_df=10,max_features=5000)\n",
    "final_bigram_count = count_vect_bigram.fit_transform(preprocessed_review)\n",
    "print(\"The type of Bi-gram vectorizer\",type(final_bigram_count))\n",
    "print(\"The shape of Bi-gram vectorizer\",final_bigram_count.get_shape())"
   ]
  },
  {
   "cell_type": "markdown",
   "metadata": {},
   "source": [
    "### TF-IDF"
   ]
  },
  {
   "cell_type": "code",
   "execution_count": 34,
   "metadata": {},
   "outputs": [
    {
     "name": "stdout",
     "output_type": "stream",
     "text": [
      "Sample Feature(Unique words in the corpus): ['ability', 'able', 'able find', 'able get', 'absolute', 'absolutely', 'absolutely delicious', 'absolutely love', 'absolutely no', 'according']\n",
      "the type of tf-idf vectorizer <class 'scipy.sparse.csr.csr_matrix'>\n",
      "The shape of tf_idf vectorizer (4993, 3127)\n"
     ]
    }
   ],
   "source": [
    "tf_idf_vect = TfidfVectorizer(ngram_range=(1,2),min_df=10)\n",
    "tf_idf_vect.fit(preprocessed_review)\n",
    "print(\"Sample Feature(Unique words in the corpus):\",tf_idf_vect.get_feature_names()[0:10])\n",
    "final_tf_idf_count = tf_idf_vect.transform(preprocessed_review)\n",
    "print(\"the type of tf-idf vectorizer\",type(final_tf_idf_count))\n",
    "print(\"The shape of tf_idf vectorizer\",final_tf_idf_count.get_shape())"
   ]
  },
  {
   "cell_type": "markdown",
   "metadata": {},
   "source": [
    "### Word2Vec"
   ]
  },
  {
   "cell_type": "code",
   "execution_count": 35,
   "metadata": {},
   "outputs": [],
   "source": [
    "list_of_sentence = []\n",
    "for sentence in preprocessed_review:\n",
    "    list_of_sentence.append(sentence.split())\n",
    "    "
   ]
  },
  {
   "cell_type": "code",
   "execution_count": 36,
   "metadata": {},
   "outputs": [
    {
     "name": "stdout",
     "output_type": "stream",
     "text": [
      "[('bad', 0.9949325323104858), ('good', 0.9943092465400696), ('think', 0.9942871332168579), ('alternative', 0.9938706159591675), ('especially', 0.9937859773635864), ('snack', 0.9937231540679932), ('even', 0.9936879873275757), ('theyare', 0.9936805963516235), ('tasty', 0.9936635494232178), ('easy', 0.9935598969459534)]\n",
      "==================================================\n",
      "[('varieties', 0.9992638230323792), ('popcorn', 0.9992542266845703), ('types', 0.9992510080337524), ('coffees', 0.9992208480834961), ('gotten', 0.9991645812988281), ('teas', 0.9991454482078552), ('lover', 0.9990550875663757), ('hands', 0.9990262985229492), ('jerky', 0.9989897608757019), ('american', 0.9989853501319885)]\n"
     ]
    }
   ],
   "source": [
    "want_to_train_w2v = True\n",
    "\n",
    "if want_to_train_w2v:\n",
    "    w2v_model = Word2Vec(list_of_sentence,min_count=5,size=50,workers=4)\n",
    "    print(w2v_model.wv.most_similar(\"great\"))\n",
    "    print(\"=\"*50)\n",
    "    print(w2v_model.wv.most_similar('worst'))\n",
    "    \n"
   ]
  },
  {
   "cell_type": "code",
   "execution_count": 37,
   "metadata": {},
   "outputs": [
    {
     "name": "stdout",
     "output_type": "stream",
     "text": [
      "Number of word that occur minimum 5 times: 3855\n",
      "sample words ['product', 'available', 'course', 'total', 'pretty', 'stinky', 'right', 'nearby', 'used', 'beat', 'great', 'received', 'shipment', 'could', 'hardly', 'wait', 'try', 'love', 'call', 'instead', 'removed', 'easily', 'daughter', 'designed', 'printed', 'use', 'car', 'windows', 'beautifully', 'shop', 'program', 'going', 'lot', 'fun', 'everywhere', 'like', 'tv', 'computer', 'really', 'good', 'idea', 'final', 'outstanding', 'window', 'everybody', 'asks', 'bought', 'made', 'two', 'thumbs']\n"
     ]
    }
   ],
   "source": [
    "w2v_words = list(w2v_model.wv.vocab)\n",
    "print(\"Number of word that occur minimum 5 times:\",len(w2v_words))\n",
    "print(\"sample words\",w2v_words[0:50])"
   ]
  },
  {
   "cell_type": "code",
   "execution_count": 38,
   "metadata": {},
   "outputs": [],
   "source": [
    "X = preprocessed_review\n",
    "y = np.array(final['Score'])\n",
    "X_1,x_test,Y_1,y_test = train_test_split(X,y,test_size=0.2,random_state=0)\n",
    "x_train,x_cv,y_train,y_cv = train_test_split(X_1,Y_1,test_size=0.2)"
   ]
  },
  {
   "cell_type": "markdown",
   "metadata": {},
   "source": [
    "#### Apply KNN  on BOW"
   ]
  },
  {
   "cell_type": "code",
   "execution_count": 39,
   "metadata": {},
   "outputs": [
    {
     "data": {
      "image/png": "[encoded data removed]",
      "text/plain": [
       "<Figure size 432x288 with 1 Axes>"
      ]
     },
     "metadata": {
      "needs_background": "light"
     },
     "output_type": "display_data"
    }
   ],
   "source": [
    "\n",
    "final_xtr = count_vect.fit_transform(x_train)\n",
    "final_xcv = count_vect.transform(x_cv)\n",
    "final_xtest = count_vect.transform(x_test)\n",
    "auc_cv = []\n",
    "auc_train = []\n",
    "k = list(range(1,50,4))\n",
    "cv_scores = []\n",
    "for i in k:\n",
    "    knn = KNeighborsClassifier(n_neighbors=i,weights='uniform',algorithm='brute',p=2,leaf_size=30,metric='cosine')\n",
    "    knn.fit(final_xtr,y_train)\n",
    "    pred = knn.predict(final_xcv)\n",
    "    auc_cv.append(roc_auc_score(y_cv,pred))\n",
    "    pred1 = knn.predict(final_xtr)\n",
    "    \n",
    "    auc_train.append(roc_auc_score(y_train,pred1))\n",
    "fig = plt.figure()\n",
    "ax = plt.subplot(111)\n",
    "ax.plot(k,auc_train,label=\"Train Auc point\")\n",
    "ax.plot(k,auc_cv,label = \"CV AUC point\")\n",
    "plt.title(\"AUC Vs K\")\n",
    "plt.xlabel('K')\n",
    "plt.ylabel('AUC')\n",
    "ax.legend()\n",
    "plt.show()\n"
   ]
  },
  {
   "cell_type": "markdown",
   "metadata": {},
   "source": [
    "We found the best k = 49"
   ]
  },
  {
   "cell_type": "code",
   "execution_count": 40,
   "metadata": {},
   "outputs": [
    {
     "data": {
      "image/png": "[encoded data removed]",
      "text/plain": [
       "<Figure size 432x288 with 1 Axes>"
      ]
     },
     "metadata": {
      "needs_background": "light"
     },
     "output_type": "display_data"
    }
   ],
   "source": [
    "knn = KNeighborsClassifier(n_neighbors=49,weights='uniform',algorithm='brute',leaf_size=30,p=2,metric='cosine')\n",
    "knn.fit(final_xtr,y_train)\n",
    "pred1 = knn.predict_proba(final_xtr)[:,1]\n",
    "fpr1,tpr1,threshold1 = metrics.roc_curve(y_train,pred1)\n",
    "\n",
    "pred2 = knn.predict_proba(final_xtest)[:,1]\n",
    "\n",
    "fpr2,tpr2,threshold2 = metrics.roc_curve(y_test,pred2)\n",
    "\n",
    "plt.plot(fpr1,tpr1,label = \"Train_AUC=\"+str(roc_auc_score(y_train,pred1)))\n",
    "plt.plot(fpr2,tpr2,label = \"Test_AUC=\"+str(roc_auc_score(y_test,pred2)))\n",
    "\n",
    "plt.title(\"ROC\")\n",
    "plt.xlabel(\"False Positive Rate\")\n",
    "plt.ylabel(\"True Negative Rate\")\n",
    "plt.legend()\n",
    "plt.show()"
   ]
  },
  {
   "cell_type": "markdown",
   "metadata": {},
   "source": [
    "#### Confusion Matrix"
   ]
  },
  {
   "cell_type": "code",
   "execution_count": 41,
   "metadata": {},
   "outputs": [
    {
     "data": {
      "text/plain": [
       "array([[  6, 149],\n",
       "       [  2, 842]], dtype=int64)"
      ]
     },
     "execution_count": 41,
     "metadata": {},
     "output_type": "execute_result"
    }
   ],
   "source": [
    "knn = KNeighborsClassifier(n_neighbors=49,weights='uniform',algorithm='brute',leaf_size=30,p=2,metric='cosine')\n",
    "knn.fit(final_xtr,y_train)\n",
    "pred1 = knn.predict(final_xtest)\n",
    "confusion_mat = confusion_matrix(y_test,pred1)\n",
    "confusion_mat"
   ]
  },
  {
   "cell_type": "markdown",
   "metadata": {},
   "source": [
    "Observation : We found the true negative 5,false negative 1 ,false positive 150 and true positive 843"
   ]
  },
  {
   "cell_type": "markdown",
   "metadata": {},
   "source": [
    "#### Let's find f1_score"
   ]
  },
  {
   "cell_type": "code",
   "execution_count": 42,
   "metadata": {},
   "outputs": [
    {
     "name": "stdout",
     "output_type": "stream",
     "text": [
      "F1 score= 0.9177111716621252\n"
     ]
    }
   ],
   "source": [
    "print(\"F1 score=\",f1_score(y_test,pred1))"
   ]
  },
  {
   "cell_type": "code",
   "execution_count": 43,
   "metadata": {},
   "outputs": [
    {
     "name": "stdout",
     "output_type": "stream",
     "text": [
      "accuracy= 0.8488488488488488\n"
     ]
    }
   ],
   "source": [
    "print(\"accuracy=\",accuracy_score(y_test,pred1))"
   ]
  },
  {
   "cell_type": "markdown",
   "metadata": {},
   "source": [
    "#### Apply Knn on Bi-gram"
   ]
  },
  {
   "cell_type": "code",
   "execution_count": 44,
   "metadata": {},
   "outputs": [
    {
     "data": {
      "image/png": "[encoded data removed]",
      "text/plain": [
       "<Figure size 432x288 with 1 Axes>"
      ]
     },
     "metadata": {
      "needs_background": "light"
     },
     "output_type": "display_data"
    }
   ],
   "source": [
    "final_xtr_bi_gram = count_vect_bigram.fit_transform(x_train)\n",
    "final_xcv_bi_gram = count_vect_bigram.transform(x_cv)\n",
    "final_xtest_bi_gram = count_vect_bigram.transform(x_test)\n",
    "auc_cv = []\n",
    "auc_train = []\n",
    "k = list(range(1,50,4))\n",
    "cv_scores = []\n",
    "for i in k:\n",
    "    knn = KNeighborsClassifier(n_neighbors=i,weights='uniform',algorithm='brute',p=2,leaf_size=30,metric='cosine')\n",
    "    knn.fit(final_xtr_bi_gram,y_train)\n",
    "    pred = knn.predict(final_xcv_bi_gram)\n",
    "    auc_cv.append(roc_auc_score(y_cv,pred))\n",
    "    pred1 = knn.predict(final_xtr_bi_gram)\n",
    "    \n",
    "    auc_train.append(roc_auc_score(y_train,pred1))\n",
    "fig = plt.figure()\n",
    "ax = plt.subplot(111)\n",
    "ax.plot(k,auc_train,label=\"Train Auc point\")\n",
    "ax.plot(k,auc_cv,label = \"CV AUC point\")\n",
    "plt.title(\"AUC Vs K\")\n",
    "plt.xlabel('K')\n",
    "plt.ylabel('AUC')\n",
    "ax.legend()\n",
    "plt.show()"
   ]
  },
  {
   "cell_type": "markdown",
   "metadata": {},
   "source": [
    "best k = 49"
   ]
  },
  {
   "cell_type": "code",
   "execution_count": 45,
   "metadata": {},
   "outputs": [
    {
     "data": {
      "image/png": "[encoded data removed]",
      "text/plain": [
       "<Figure size 432x288 with 1 Axes>"
      ]
     },
     "metadata": {
      "needs_background": "light"
     },
     "output_type": "display_data"
    }
   ],
   "source": [
    "knn = KNeighborsClassifier(n_neighbors=49,weights='uniform',algorithm='brute',leaf_size=30,p=2,metric='cosine')\n",
    "knn.fit(final_xtr_bi_gram,y_train)\n",
    "pred1 = knn.predict_proba(final_xtr_bi_gram)[:,1]\n",
    "fpr1,tpr1,threshold1 = metrics.roc_curve(y_train,pred1)\n",
    "\n",
    "pred2 = knn.predict_proba(final_xtest_bi_gram)[:,1]\n",
    "\n",
    "fpr2,tpr2,threshold2 = metrics.roc_curve(y_test,pred2)\n",
    "\n",
    "plt.plot(fpr1,tpr1,label = \"Train_AUC=\"+str(roc_auc_score(y_train,pred1)))\n",
    "plt.plot(fpr2,tpr2,label = \"Test_AUC=\"+str(roc_auc_score(y_test,pred2)))\n",
    "\n",
    "plt.title(\"ROC\")\n",
    "plt.xlabel(\"False Positive Rate\")\n",
    "plt.ylabel(\"True Negative Rate\")\n",
    "plt.legend()\n",
    "plt.show()"
   ]
  },
  {
   "cell_type": "code",
   "execution_count": 46,
   "metadata": {},
   "outputs": [
    {
     "data": {
      "text/plain": [
       "array([[  6, 149],\n",
       "       [  1, 843]], dtype=int64)"
      ]
     },
     "execution_count": 46,
     "metadata": {},
     "output_type": "execute_result"
    }
   ],
   "source": [
    "knn = KNeighborsClassifier(n_neighbors=49,weights='uniform',algorithm='brute',leaf_size=30,p=2,metric='cosine')\n",
    "knn.fit(final_xtr_bi_gram,y_train)\n",
    "pred1 = knn.predict(final_xtest_bi_gram)\n",
    "confusion_mat = confusion_matrix(y_test,pred1)\n",
    "confusion_mat"
   ]
  },
  {
   "cell_type": "markdown",
   "metadata": {},
   "source": [
    "Observation : We found the true negative 6,false negative : 1, false positive : 149 and true positive :843"
   ]
  },
  {
   "cell_type": "code",
   "execution_count": 47,
   "metadata": {},
   "outputs": [
    {
     "name": "stdout",
     "output_type": "stream",
     "text": [
      "f1_score 0.9183006535947713\n"
     ]
    }
   ],
   "source": [
    "print(\"f1_score\",f1_score(y_test,pred1))"
   ]
  },
  {
   "cell_type": "markdown",
   "metadata": {},
   "source": [
    "#### Apply KNN on TF-IDF"
   ]
  },
  {
   "cell_type": "code",
   "execution_count": 48,
   "metadata": {},
   "outputs": [
    {
     "data": {
      "image/png": "[encoded data removed]",
      "text/plain": [
       "<Figure size 432x288 with 1 Axes>"
      ]
     },
     "metadata": {
      "needs_background": "light"
     },
     "output_type": "display_data"
    }
   ],
   "source": [
    "final_xtr_tf = tf_idf_vect.fit_transform(x_train)\n",
    "final_xcv_tf = tf_idf_vect.transform(x_cv)\n",
    "final_xtest_tf = tf_idf_vect.transform(x_test)\n",
    "auc_cv = []\n",
    "auc_train = []\n",
    "k = list(range(1,50,4))\n",
    "cv_scores = []\n",
    "for i in k:\n",
    "    knn = KNeighborsClassifier(n_neighbors=i,weights='uniform',algorithm='brute',p=2,leaf_size=30,metric='cosine')\n",
    "    knn.fit(final_xtr_tf,y_train)\n",
    "    pred = knn.predict(final_xcv_tf)\n",
    "    auc_cv.append(roc_auc_score(y_cv,pred))\n",
    "    pred1 = knn.predict(final_xtr_tf)\n",
    "    \n",
    "    auc_train.append(roc_auc_score(y_train,pred1))\n",
    "fig = plt.figure()\n",
    "ax = plt.subplot(111)\n",
    "ax.plot(k,auc_train,label=\"Train Auc point\")\n",
    "ax.plot(k,auc_cv,label = \"CV AUC point\")\n",
    "plt.title(\"AUC Vs K\")\n",
    "plt.xlabel('K')\n",
    "plt.ylabel('AUC')\n",
    "ax.legend()\n",
    "plt.show()"
   ]
  },
  {
   "cell_type": "markdown",
   "metadata": {},
   "source": [
    "Observation : We have observed the distance between train_curve and  cross validation curve is very less on k =28, so this is our \n",
    "    best K  value"
   ]
  },
  {
   "cell_type": "code",
   "execution_count": 49,
   "metadata": {},
   "outputs": [
    {
     "data": {
      "image/png": "[encoded data removed]",
      "text/plain": [
       "<Figure size 432x288 with 1 Axes>"
      ]
     },
     "metadata": {
      "needs_background": "light"
     },
     "output_type": "display_data"
    }
   ],
   "source": [
    "knn = KNeighborsClassifier(n_neighbors=28,weights='uniform',algorithm='brute',leaf_size=30,p=2,metric='cosine')\n",
    "knn.fit(final_xtr_tf,y_train)\n",
    "pred1 = knn.predict_proba(final_xtr_tf)[:,1]\n",
    "fpr1,tpr1,threshold1 = metrics.roc_curve(y_train,pred1)\n",
    "\n",
    "pred2 = knn.predict_proba(final_xtest_tf)[:,1]\n",
    "\n",
    "fpr2,tpr2,threshold2 = metrics.roc_curve(y_test,pred2)\n",
    "\n",
    "plt.plot(fpr1,tpr1,label = \"Train_AUC=\"+str(roc_auc_score(y_train,pred1)))\n",
    "plt.plot(fpr2,tpr2,label = \"Test_AUC=\"+str(roc_auc_score(y_test,pred2)))\n",
    "\n",
    "plt.title(\"ROC\")\n",
    "plt.xlabel(\"False Positive Rate\")\n",
    "plt.ylabel(\"True Negative Rate\")\n",
    "plt.legend()\n",
    "plt.show()"
   ]
  },
  {
   "cell_type": "markdown",
   "metadata": {},
   "source": [
    "Observation : We found the Train AUC = 0.861 and Test_AUC = 0.81"
   ]
  },
  {
   "cell_type": "code",
   "execution_count": 50,
   "metadata": {},
   "outputs": [
    {
     "data": {
      "text/plain": [
       "array([[  5, 150],\n",
       "       [  0, 844]], dtype=int64)"
      ]
     },
     "execution_count": 50,
     "metadata": {},
     "output_type": "execute_result"
    }
   ],
   "source": [
    "knn = KNeighborsClassifier(n_neighbors=49,weights='uniform',algorithm='brute',leaf_size=30,p=2,metric='cosine')\n",
    "knn.fit(final_xtr_tf,y_train)\n",
    "pred1 = knn.predict(final_xtest_tf)\n",
    "confusion_mat = confusion_matrix(y_test,pred1)\n",
    "confusion_mat"
   ]
  },
  {
   "cell_type": "markdown",
   "metadata": {},
   "source": [
    "Observation : The total true negative 5 , false positive 150,false negative 0 and total true positive 844"
   ]
  },
  {
   "cell_type": "code",
   "execution_count": 51,
   "metadata": {},
   "outputs": [
    {
     "name": "stdout",
     "output_type": "stream",
     "text": [
      "F1_score 0.9183895538628944\n"
     ]
    }
   ],
   "source": [
    "print(\"F1_score\",f1_score(y_test,pred1))"
   ]
  },
  {
   "cell_type": "markdown",
   "metadata": {},
   "source": [
    "Observation : We found good f1 score for test data"
   ]
  },
  {
   "cell_type": "code",
   "execution_count": 52,
   "metadata": {},
   "outputs": [
    {
     "name": "stdout",
     "output_type": "stream",
     "text": [
      "accuracy: 0.8498498498498499\n"
     ]
    }
   ],
   "source": [
    "print(\"accuracy:\",accuracy_score(y_test,pred1))"
   ]
  },
  {
   "cell_type": "code",
   "execution_count": null,
   "metadata": {},
   "outputs": [],
   "source": []
  }
 ],
 "metadata": {
  "kernelspec": {
   "display_name": "Python 3",
   "language": "python",
   "name": "python3"
  },
  "language_info": {
   "codemirror_mode": {
    "name": "ipython",
    "version": 3
   },
   "file_extension": ".py",
   "mimetype": "text/x-python",
   "name": "python",
   "nbconvert_exporter": "python",
   "pygments_lexer": "ipython3",
   "version": "3.6.5"
  }
 },
 "nbformat": 4,
 "nbformat_minor": 4
}
